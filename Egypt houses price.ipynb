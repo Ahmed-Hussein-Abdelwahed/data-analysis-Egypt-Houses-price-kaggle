{
 "cells": [
  {
   "cell_type": "markdown",
   "metadata": {},
   "source": [
    "* Egyptian Houses_price Data\n",
    "\n",
    "* Columns\n",
    "* Type ==>the type of property\n",
    "* Price ==> the price of property\n",
    "* Bedrooms ==>number of bedrooms\n",
    "* Bathrooms ==> number of bathrooms\n",
    "* Area ==> the Area of the property by m^2\n",
    "* Furnished ==> is the property Furnished or not\n",
    "* Level ==> In what floor the property is ?\n",
    "* Compound ==> In what Compound the property is ?\n",
    "* Payment_Option\n",
    "* Delivery_Date\n",
    "* City"
   ]
  },
  {
   "cell_type": "code",
   "execution_count": 1,
   "metadata": {},
   "outputs": [],
   "source": [
    "import warnings\n",
    "import pandas as pd\n",
    "\n",
    "warnings.filterwarnings('ignore')\n",
    "pd.options.display.max_columns = None\n",
    "pd.options.display.max_rows = None\n",
    "pd.set_option('display.float_format', lambda x: '%.5f' % x)"
   ]
  },
  {
   "cell_type": "markdown",
   "metadata": {},
   "source": [
    "# Read data"
   ]
  },
  {
   "cell_type": "code",
   "execution_count": 17,
   "metadata": {},
   "outputs": [
    {
     "data": {
      "text/html": [
       "<div>\n",
       "<style scoped>\n",
       "    .dataframe tbody tr th:only-of-type {\n",
       "        vertical-align: middle;\n",
       "    }\n",
       "\n",
       "    .dataframe tbody tr th {\n",
       "        vertical-align: top;\n",
       "    }\n",
       "\n",
       "    .dataframe thead th {\n",
       "        text-align: right;\n",
       "    }\n",
       "</style>\n",
       "<table border=\"1\" class=\"dataframe\">\n",
       "  <thead>\n",
       "    <tr style=\"text-align: right;\">\n",
       "      <th></th>\n",
       "      <th>Type</th>\n",
       "      <th>Price</th>\n",
       "      <th>Bedrooms</th>\n",
       "      <th>Bathrooms</th>\n",
       "      <th>Area</th>\n",
       "      <th>Furnished</th>\n",
       "      <th>Level</th>\n",
       "      <th>Compound</th>\n",
       "      <th>Payment_Option</th>\n",
       "      <th>Delivery_Date</th>\n",
       "      <th>Delivery_Term</th>\n",
       "      <th>City</th>\n",
       "    </tr>\n",
       "  </thead>\n",
       "  <tbody>\n",
       "    <tr>\n",
       "      <th>0</th>\n",
       "      <td>Duplex</td>\n",
       "      <td>4000000</td>\n",
       "      <td>3</td>\n",
       "      <td>3</td>\n",
       "      <td>400</td>\n",
       "      <td>No</td>\n",
       "      <td>7</td>\n",
       "      <td>Unknown</td>\n",
       "      <td>Cash</td>\n",
       "      <td>Ready to move</td>\n",
       "      <td>Finished</td>\n",
       "      <td>Nasr City</td>\n",
       "    </tr>\n",
       "    <tr>\n",
       "      <th>1</th>\n",
       "      <td>Apartment</td>\n",
       "      <td>4000000</td>\n",
       "      <td>3</td>\n",
       "      <td>3</td>\n",
       "      <td>160</td>\n",
       "      <td>No</td>\n",
       "      <td>10+</td>\n",
       "      <td>Unknown</td>\n",
       "      <td>Cash</td>\n",
       "      <td>Ready to move</td>\n",
       "      <td>Finished</td>\n",
       "      <td>Camp Caesar</td>\n",
       "    </tr>\n",
       "    <tr>\n",
       "      <th>2</th>\n",
       "      <td>Apartment</td>\n",
       "      <td>2250000</td>\n",
       "      <td>3</td>\n",
       "      <td>2</td>\n",
       "      <td>165</td>\n",
       "      <td>No</td>\n",
       "      <td>1</td>\n",
       "      <td>Unknown</td>\n",
       "      <td>Cash</td>\n",
       "      <td>Ready to move</td>\n",
       "      <td>Finished</td>\n",
       "      <td>Smoha</td>\n",
       "    </tr>\n",
       "    <tr>\n",
       "      <th>3</th>\n",
       "      <td>Apartment</td>\n",
       "      <td>1900000</td>\n",
       "      <td>3</td>\n",
       "      <td>2</td>\n",
       "      <td>230</td>\n",
       "      <td>No</td>\n",
       "      <td>10</td>\n",
       "      <td>Unknown</td>\n",
       "      <td>Cash</td>\n",
       "      <td>Ready to move</td>\n",
       "      <td>Finished</td>\n",
       "      <td>Nasr City</td>\n",
       "    </tr>\n",
       "    <tr>\n",
       "      <th>4</th>\n",
       "      <td>Apartment</td>\n",
       "      <td>5800000</td>\n",
       "      <td>2</td>\n",
       "      <td>3</td>\n",
       "      <td>160</td>\n",
       "      <td>No</td>\n",
       "      <td>Ground</td>\n",
       "      <td>Eastown</td>\n",
       "      <td>Cash</td>\n",
       "      <td>Ready to move</td>\n",
       "      <td>Semi Finished</td>\n",
       "      <td>New Cairo - El Tagamoa</td>\n",
       "    </tr>\n",
       "  </tbody>\n",
       "</table>\n",
       "</div>"
      ],
      "text/plain": [
       "        Type    Price Bedrooms Bathrooms Area Furnished   Level Compound  \\\n",
       "0     Duplex  4000000        3         3  400        No       7  Unknown   \n",
       "1  Apartment  4000000        3         3  160        No     10+  Unknown   \n",
       "2  Apartment  2250000        3         2  165        No       1  Unknown   \n",
       "3  Apartment  1900000        3         2  230        No      10  Unknown   \n",
       "4  Apartment  5800000        2         3  160        No  Ground  Eastown   \n",
       "\n",
       "  Payment_Option  Delivery_Date  Delivery_Term                    City  \n",
       "0           Cash  Ready to move       Finished               Nasr City  \n",
       "1           Cash  Ready to move       Finished             Camp Caesar  \n",
       "2           Cash  Ready to move       Finished                   Smoha  \n",
       "3           Cash  Ready to move       Finished               Nasr City  \n",
       "4           Cash  Ready to move  Semi Finished  New Cairo - El Tagamoa  "
      ]
     },
     "execution_count": 17,
     "metadata": {},
     "output_type": "execute_result"
    }
   ],
   "source": [
    "df = pd.read_csv('E:\\\\data analysis projects\\\\Egypt_Houses_price\\\\Egypt_Houses_Price.csv')\n",
    "df.head()"
   ]
  },
  {
   "cell_type": "markdown",
   "metadata": {},
   "source": [
    "# Data cleaning"
   ]
  },
  {
   "cell_type": "code",
   "execution_count": 18,
   "metadata": {},
   "outputs": [
    {
     "data": {
      "text/plain": [
       "(27361, 12)"
      ]
     },
     "execution_count": 18,
     "metadata": {},
     "output_type": "execute_result"
    }
   ],
   "source": [
    "df.shape"
   ]
  },
  {
   "cell_type": "code",
   "execution_count": 19,
   "metadata": {},
   "outputs": [
    {
     "data": {
      "text/plain": [
       "Type                0\n",
       "Price               2\n",
       "Bedrooms          203\n",
       "Bathrooms         171\n",
       "Area              471\n",
       "Furnished           0\n",
       "Level               0\n",
       "Compound            0\n",
       "Payment_Option      0\n",
       "Delivery_Date       0\n",
       "Delivery_Term       0\n",
       "City                0\n",
       "dtype: int64"
      ]
     },
     "execution_count": 19,
     "metadata": {},
     "output_type": "execute_result"
    }
   ],
   "source": [
    "df.isnull().sum()"
   ]
  },
  {
   "cell_type": "code",
   "execution_count": 20,
   "metadata": {},
   "outputs": [],
   "source": [
    "df.dropna(inplace=True)"
   ]
  },
  {
   "cell_type": "code",
   "execution_count": 21,
   "metadata": {},
   "outputs": [
    {
     "data": {
      "text/plain": [
       "Type              0\n",
       "Price             0\n",
       "Bedrooms          0\n",
       "Bathrooms         0\n",
       "Area              0\n",
       "Furnished         0\n",
       "Level             0\n",
       "Compound          0\n",
       "Payment_Option    0\n",
       "Delivery_Date     0\n",
       "Delivery_Term     0\n",
       "City              0\n",
       "dtype: int64"
      ]
     },
     "execution_count": 21,
     "metadata": {},
     "output_type": "execute_result"
    }
   ],
   "source": [
    "df.isnull().sum()"
   ]
  },
  {
   "cell_type": "code",
   "execution_count": 22,
   "metadata": {},
   "outputs": [
    {
     "data": {
      "text/plain": [
       "(26730, 12)"
      ]
     },
     "execution_count": 22,
     "metadata": {},
     "output_type": "execute_result"
    }
   ],
   "source": [
    "df.shape"
   ]
  },
  {
   "cell_type": "markdown",
   "metadata": {},
   "source": [
    "* We have been dropped 631 rows from the data frame = 1% from the dataframe approximately"
   ]
  },
  {
   "cell_type": "code",
   "execution_count": 23,
   "metadata": {},
   "outputs": [
    {
     "data": {
      "text/plain": [
       "Type              object\n",
       "Price             object\n",
       "Bedrooms          object\n",
       "Bathrooms         object\n",
       "Area              object\n",
       "Furnished         object\n",
       "Level             object\n",
       "Compound          object\n",
       "Payment_Option    object\n",
       "Delivery_Date     object\n",
       "Delivery_Term     object\n",
       "City              object\n",
       "dtype: object"
      ]
     },
     "execution_count": 23,
     "metadata": {},
     "output_type": "execute_result"
    }
   ],
   "source": [
    "df.dtypes"
   ]
  },
  {
   "cell_type": "code",
   "execution_count": 24,
   "metadata": {},
   "outputs": [],
   "source": [
    "df['Price'] = df['Price'].apply(lambda x: float(x) if x.isnumeric() else x)\n",
    "df['Bedrooms'] = df['Bedrooms'].apply(lambda x: float(x) if x.isnumeric() else x)\n",
    "df['Bathrooms'] = df['Bathrooms'].apply(lambda x: float(x) if x.isnumeric() else x)\n",
    "df['Area'] = df['Area'].apply(lambda x: float(x) if x.isnumeric() else x)"
   ]
  },
  {
   "cell_type": "markdown",
   "metadata": {},
   "source": [
    "* We have cells contains \"Unknown\" values in the data frame"
   ]
  },
  {
   "cell_type": "code",
   "execution_count": 25,
   "metadata": {},
   "outputs": [
    {
     "name": "stdout",
     "output_type": "stream",
     "text": [
      "Column Type: 36 Unknown value(s)\n",
      "Column Price: 37 Unknown value(s)\n",
      "Column Bedrooms: 36 Unknown value(s)\n",
      "Column Bathrooms: 36 Unknown value(s)\n",
      "Column Area: 36 Unknown value(s)\n",
      "Column Furnished: 8378 Unknown value(s)\n",
      "Column Level: 9833 Unknown value(s)\n",
      "Column Compound: 10734 Unknown value(s)\n",
      "Column Payment_Option: 0 Unknown value(s)\n",
      "Column Delivery_Date: 9914 Unknown value(s)\n",
      "Column Delivery_Term: 0 Unknown value(s)\n",
      "Column City: 0 Unknown value(s)\n"
     ]
    }
   ],
   "source": [
    "for i in df.columns:\n",
    "    print('Column {}: {} Unknown value(s)'.format(i, len(df[i][df[i] == 'Unknown'])))"
   ]
  },
  {
   "cell_type": "markdown",
   "metadata": {},
   "source": [
    "* We will drop Rows that have Unknown values (Because it will not be accurate if we replace them with mode value)\n",
    "* Dropping Unknown will decrease a large number of rows from the data (But it is the best solution)\n",
    "* Replacing Unknown with mode value will get bad estiamtion (There is a large amount of rows has Unknown values)"
   ]
  },
  {
   "cell_type": "code",
   "execution_count": 26,
   "metadata": {},
   "outputs": [],
   "source": [
    "df.drop(df['Type'].index[df['Type'] == 'Unknown'].tolist(), inplace=True)\n",
    "df.drop(df['Price'].index[df['Price'] == 'Unknown'].tolist(), inplace=True)\n",
    "df.drop(df['Bedrooms'].index[df['Bedrooms'] == 'Unknown'].tolist(), inplace=True)\n",
    "df.drop(df['Bathrooms'].index[df['Bathrooms'] == 'Unknown'].tolist(), inplace=True)\n",
    "df.drop(df['Area'].index[df['Area'] == 'Unknown'].tolist(), inplace=True)\n",
    "df.drop(df['Furnished'].index[df['Furnished'] == 'Unknown'].tolist(), inplace=True)\n",
    "df.drop(df['Level'].index[df['Level'] == 'Unknown'].tolist(), inplace=True)\n",
    "df.drop(df['Compound'].index[df['Compound'] == 'Unknown'].tolist(), inplace=True)\n",
    "df.drop(df['Delivery_Date'].index[df['Delivery_Date'] == 'Unknown'].tolist(), inplace=True)\n",
    "df.drop(df['Delivery_Term'].index[df['Delivery_Term'] == 'Unknown '].tolist(), inplace=True)"
   ]
  },
  {
   "cell_type": "code",
   "execution_count": 27,
   "metadata": {},
   "outputs": [
    {
     "data": {
      "text/plain": [
       "(5086, 12)"
      ]
     },
     "execution_count": 27,
     "metadata": {},
     "output_type": "execute_result"
    }
   ],
   "source": [
    "df.shape"
   ]
  },
  {
   "cell_type": "code",
   "execution_count": 13,
   "metadata": {},
   "outputs": [],
   "source": [
    "df.rename(columns={'Area': 'Area (m^2)'}, inplace=True)"
   ]
  },
  {
   "cell_type": "code",
   "execution_count": 14,
   "metadata": {},
   "outputs": [],
   "source": [
    "df.to_excel('E:\\\\data analysis projects\\\\Egypt_Houses_price\\\\data file.xlsx', index=False, sheet_name='Data')"
   ]
  },
  {
   "cell_type": "code",
   "execution_count": null,
   "metadata": {},
   "outputs": [],
   "source": []
  }
 ],
 "metadata": {
  "kernelspec": {
   "display_name": "base",
   "language": "python",
   "name": "python3"
  },
  "language_info": {
   "codemirror_mode": {
    "name": "ipython",
    "version": 3
   },
   "file_extension": ".py",
   "mimetype": "text/x-python",
   "name": "python",
   "nbconvert_exporter": "python",
   "pygments_lexer": "ipython3",
   "version": "3.9.12"
  },
  "orig_nbformat": 4,
  "vscode": {
   "interpreter": {
    "hash": "20a9e06a1eee47c4abbed4ec8225ad91d78d9800d202b71b6b0a6e47016c6abd"
   }
  }
 },
 "nbformat": 4,
 "nbformat_minor": 2
}
